{
 "cells": [
  {
   "cell_type": "code",
   "execution_count": 1,
   "id": "d9b0471d",
   "metadata": {
    "code_folding": []
   },
   "outputs": [],
   "source": [
    "# import library\n",
    "import numpy as np\n",
    "import pandas as pd\n",
    "import matplotlib.pyplot as plt\n",
    "\n",
    "import pkgutil\n",
    "import spiketag\n",
    "\n",
    "from spiketag.realtime import BMI,Binner\n",
    "from spiketag.analysis import decoder\n",
    "from spiketag.base import probe\n",
    "\n",
    "\n",
    "import serial"
   ]
  },
  {
   "cell_type": "code",
   "execution_count": 2,
   "id": "60988d17",
   "metadata": {
    "code_folding": [
     0
    ]
   },
   "outputs": [],
   "source": [
    "# reading fet file\n",
    "fet_path = 'fet.bin'\n",
    "fet = np.memmap(fet_path, dtype=np.int32).reshape(-1, 8)\n",
    "t = fet[:, 0]  # time\n",
    "grp_id = fet[:, 1]  # group id\n",
    "fets = fet[:, 2:6]  # feature extraction\n",
    "spk_id = fet[:, 6]  # spike id\n",
    "energy = fet[:, 7]  # energy"
   ]
  },
  {
   "cell_type": "code",
   "execution_count": 3,
   "id": "92e5f7d8",
   "metadata": {
    "code_folding": [
     0
    ]
   },
   "outputs": [
    {
     "name": "stdout",
     "output_type": "stream",
     "text": [
      "Modules in spiketag:\n",
      "analysis (Package: True)\n",
      "base (Package: True)\n",
      "command (Package: False)\n",
      "core (Package: True)\n",
      "fpga (Package: True)\n",
      "mvc (Package: True)\n",
      "probe (Package: True)\n",
      "quality (Package: True)\n",
      "realtime (Package: True)\n",
      "res (Package: True)\n",
      "spiketag (Package: False)\n",
      "utils (Package: True)\n",
      "view (Package: True)\n"
     ]
    }
   ],
   "source": [
    "# check spiketag module\n",
    "package = spiketag\n",
    "\n",
    "print(f\"Modules in {package.__name__}:\")\n",
    "for importer, modname, ispkg in pkgutil.iter_modules(package.__path__):\n",
    "    print(f\"{modname} (Package: {ispkg})\")"
   ]
  },
  {
   "cell_type": "markdown",
   "id": "90f9944e",
   "metadata": {},
   "source": [
    "# bmi"
   ]
  },
  {
   "cell_type": "code",
   "execution_count": 4,
   "id": "63c731ac",
   "metadata": {
    "code_folding": [
     0
    ]
   },
   "outputs": [],
   "source": [
    "# send_signal_to_teensy()\n",
    "def send_signal_to_teensy(bmi):\n",
    "#     print(\"Signal\")\n",
    "    if bmi.TTLserial is not None:\n",
    "        bmi.TTLserial.write(b'a')\n",
    "        bmi.TTLserial.flush()"
   ]
  },
  {
   "cell_type": "code",
   "execution_count": 5,
   "id": "49e6fd96",
   "metadata": {},
   "outputs": [],
   "source": [
    "# reset_signal_to_teensy()\n",
    "def reset_signal_to_teensy(bmi):\n",
    "    if bmi.TTLserial is not None:\n",
    "        bmi.TTLserial.write(b'b')\n",
    "        bmi.TTLserial.flush()"
   ]
  },
  {
   "cell_type": "code",
   "execution_count": 7,
   "id": "62ca8808",
   "metadata": {},
   "outputs": [],
   "source": [
    "# while True\n",
    "def bmi_loop(bmi_func):\n",
    "    while True:\n",
    "        bmi_func()"
   ]
  },
  {
   "cell_type": "code",
   "execution_count": 8,
   "id": "e6bb48f2",
   "metadata": {},
   "outputs": [],
   "source": [
    "# bmi laser function (mode)\n",
    "def bmi_func(bmi, mode,targetID,neuron_id,threshold):\n",
    "    frFlag = 0\n",
    "    spkFlag = 0\n",
    "    bmi_output = bmi.read_bmi()\n",
    "    if mode != \"spike ID\":\n",
    "        bmi.binner.input(bmi_output)\n",
    "        count_vec = bmi.binner.output\n",
    "        sum_count = count_vec.sum(axis=0)\n",
    "        if sum_count[neuron_id] >= threshold:\n",
    "            frFlag = 1\n",
    "    if mode != \"firing rate\":\n",
    "        spike_id = bmi_output.spk_id\n",
    "        if spike_id == targetID:\n",
    "            spkFlag = 1\n",
    "        \n",
    "    if frFlag == 1 or spkFlag == 1:\n",
    "        send_signal_to_teensy(bmi)\n",
    "    else:\n",
    "        reset_signal_to_teensy(bmi)"
   ]
  },
  {
   "cell_type": "code",
   "execution_count": 9,
   "id": "98e9ae54",
   "metadata": {
    "code_folding": [
     0
    ]
   },
   "outputs": [],
   "source": [
    "# prb file\n",
    "prb_path = \"prb_a2x32.prb\"\n",
    "prb = probe()\n",
    "prb.load(prb_path)\n",
    "# prb.show()\n",
    "\n",
    "ttlport = '/dev/ttyACM0'"
   ]
  },
  {
   "cell_type": "code",
   "execution_count": 10,
   "id": "b56ad03a",
   "metadata": {
    "code_folding": [],
    "scrolled": true
   },
   "outputs": [],
   "source": [
    "# bmi\n",
    "def bmi_realtime_laser(bmi,bsize,Bbins,neuron_id,threshold,t_smooth\n",
    "                       ,bmi_update_rule,posterior_threshold,\n",
    "                      two_steps_decoding,mode,targetID):\n",
    "   \n",
    "    pos_buffer_len = int(t_smooth / bsize)\n",
    "    \n",
    "\n",
    "    bmi.bmi_update_rule = bmi_update_rule\n",
    "    bmi.posterior_threshold = posterior_threshold\n",
    "    bmi.pos_buffer_len = pos_buffer_len # position buffer length for moving average\n",
    "    bmi.two_steps = two_steps_decoding\n",
    "    BMI.set_binner(bmi,bin_size = bsize ,B_bins = Bbins)\n",
    "\n",
    "\n",
    "    if bmi.binner is not None:\n",
    "        try:\n",
    "            \n",
    "# annotated parts are made into functions\n",
    "#             while True:\n",
    "#                 bmi_output = bmi.read_bmi()\n",
    "#                 bmi.binner.input(bmi_output)\n",
    "#                 count_vec = bmi.binner.output\n",
    "#                 sum_count = count_vec.sum(axis=0)\n",
    "#         #         print(sum_count[neuron_id])\n",
    "#                 if sum_count[neuron_id] >= threshold:\n",
    "#                     send_signal_to_teensy()\n",
    "#                 else:\n",
    "#                     reset_signal_to_teensy()\n",
    "\n",
    "            bmi_loop(lambda : bmi_func(bmi,mode,targetID,neuron_id,threshold))\n",
    "        \n",
    "        except KeyboardInterrupt:\n",
    "            print(\"Terminating the loop...\")\n",
    "        finally:\n",
    "            bmi.close() # close bmi\n"
   ]
  },
  {
   "cell_type": "code",
   "execution_count": 15,
   "id": "50ac9514",
   "metadata": {},
   "outputs": [
    {
     "name": "stdout",
     "output_type": "stream",
     "text": [
      "32 groups on probe\n",
      "6 groups is configured in the FPGA: [ 4  5  6 11 12 15]\n",
      "7 neurons are configured in the FPGA\n",
      "---1. BMI spike-model initiation succeed---\n",
      "\n",
      "spike-id packet channel is opened\n",
      "\n",
      "spike-id and feature is saved to fet.bin\n",
      "\n",
      "[0 1 2 3 4 5 6]\n"
     ]
    }
   ],
   "source": [
    "bmi = BMI(prb=prb, fetfile=fet_path, ttlport=ttlport)\n",
    "print(np.unique(spk_id))"
   ]
  },
  {
   "cell_type": "code",
   "execution_count": 73,
   "id": "0351c330",
   "metadata": {},
   "outputs": [
    {
     "name": "stdout",
     "output_type": "stream",
     "text": [
      "32 groups on probe\n",
      "6 groups is configured in the FPGA: [ 4  5  6 11 12 15]\n",
      "7 neurons are configured in the FPGA\n",
      "---1. BMI spike-model initiation succeed---\n",
      "\n",
      "spike-id packet channel is opened\n",
      "\n",
      "spike-id and feature is saved to fet.bin\n",
      "\n",
      "BMI binner: 10 bins 7 units, each bin is 0.1 seconds\n",
      "---2. BMI binner initiation succeed---\n",
      "\n",
      "Terminating the loop...\n"
     ]
    }
   ],
   "source": [
    "# function call parts\n",
    "# you can edit the values if you need\n",
    "# set var\n",
    "\n",
    "# bsize = 100e-3 # 0.1 sec\n",
    "bsize = 0.1\n",
    "Bbins = 10\n",
    "neuron_id = 4\n",
    "threshold = 125\n",
    "t_smooth = 3\n",
    "\n",
    "bmi_update_rule = 'moving_average'\n",
    "posterior_threshold = 0.01\n",
    "two_steps_decoding = False\n",
    "\n",
    "#================#\n",
    "#      mode      #\n",
    "# 1. firing rate #\n",
    "#   2. spike ID  #\n",
    "#     3. both    #\n",
    "#================#\n",
    "\n",
    "mode = 'both'\n",
    "targetID = 4\n",
    "\n",
    "bmi_realtime_laser(bmi,bsize,Bbins,neuron_id,threshold,t_smooth\n",
    "                       ,bmi_update_rule,posterior_threshold,\n",
    "                      two_steps_decoding,mode,targetID)"
   ]
  },
  {
   "cell_type": "code",
   "execution_count": 74,
   "id": "1dfd2fb9",
   "metadata": {},
   "outputs": [
    {
     "data": {
      "text/plain": [
       "array([[945.,  13.,   0.,  12.,   9.,   5.,   0.],\n",
       "       [944.,  14.,   1.,  12.,   9.,   6.,   1.],\n",
       "       [954.,  12.,   0.,  14.,  12.,   6.,   0.],\n",
       "       [961.,  12.,   0.,  12.,  11.,   7.,   0.],\n",
       "       [946.,  12.,   0.,  14.,  11.,   7.,   1.],\n",
       "       [962.,  14.,   0.,   9.,   5.,   6.,   0.],\n",
       "       [955.,  13.,   1.,  12.,   8.,   4.,   1.],\n",
       "       [958.,  15.,   0.,  13.,   5.,   7.,   1.],\n",
       "       [951.,  14.,   1.,  11.,   7.,   5.,   3.],\n",
       "       [532.,   6.,   0.,   4.,   4.,   3.,   1.]])"
      ]
     },
     "execution_count": 74,
     "metadata": {},
     "output_type": "execute_result"
    }
   ],
   "source": [
    "# count_vec\n",
    "bmi.binner.output"
   ]
  },
  {
   "cell_type": "code",
   "execution_count": 75,
   "id": "d3e54fe2",
   "metadata": {},
   "outputs": [
    {
     "data": {
      "text/plain": [
       "array([ 4,  5,  6, 11, 12, 15])"
      ]
     },
     "execution_count": 75,
     "metadata": {},
     "output_type": "execute_result"
    }
   ],
   "source": [
    "bmi.fpga.configured_groups"
   ]
  },
  {
   "cell_type": "code",
   "execution_count": 12,
   "id": "0bf48622",
   "metadata": {},
   "outputs": [
    {
     "name": "stdout",
     "output_type": "stream",
     "text": [
      "Serial<id=0x7f922132bf70, open=False>(port='/dev/ttyACM1', baudrate=115200, bytesize=8, parity='N', stopbits=1, timeout=0, xonxoff=False, rtscts=False, dsrdtr=False)\n"
     ]
    }
   ],
   "source": [
    "print(bmi.TTLserial)"
   ]
  },
  {
   "cell_type": "markdown",
   "id": "8b9920d4",
   "metadata": {},
   "source": [
    "# DataFrame"
   ]
  },
  {
   "cell_type": "code",
   "execution_count": null,
   "id": "05c15cd5",
   "metadata": {
    "code_folding": [
     0
    ]
   },
   "outputs": [],
   "source": [
    "# fet to dataframe\n",
    "fet_df = pd.DataFrame(fet,columns = ['t','grp_id','fets_0','fets_1','fets_2','fets_3','spk_id','energy'])\n",
    "fet_df.head(10)"
   ]
  },
  {
   "cell_type": "code",
   "execution_count": null,
   "id": "c9d16e12",
   "metadata": {},
   "outputs": [],
   "source": [
    "np.unique(spk_id)"
   ]
  },
  {
   "cell_type": "code",
   "execution_count": null,
   "id": "d1829a8d",
   "metadata": {
    "code_folding": [
     0
    ]
   },
   "outputs": [],
   "source": [
    "# visualization time(spk_id)\n",
    "plt.vlines(t[spk_id==4], 0, 1)\n",
    "plt.xlim([0, 100000])"
   ]
  },
  {
   "cell_type": "code",
   "execution_count": null,
   "id": "49d266c4",
   "metadata": {
    "code_folding": [
     0
    ]
   },
   "outputs": [],
   "source": [
    "# counts at each time\n",
    "unique_times, counts = np.unique(t[spk_id==1], return_counts=True)\n",
    "counts"
   ]
  }
 ],
 "metadata": {
  "kernelspec": {
   "display_name": "Python 3 (ipykernel)",
   "language": "python",
   "name": "python3"
  },
  "language_info": {
   "codemirror_mode": {
    "name": "ipython",
    "version": 3
   },
   "file_extension": ".py",
   "mimetype": "text/x-python",
   "name": "python",
   "nbconvert_exporter": "python",
   "pygments_lexer": "ipython3",
   "version": "3.8.19"
  }
 },
 "nbformat": 4,
 "nbformat_minor": 5
}
